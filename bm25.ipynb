{
 "cells": [
  {
   "cell_type": "code",
   "execution_count": null,
   "metadata": {},
   "outputs": [],
   "source": [
    "# 安裝faiss\n",
    "!pip install faiss-cpu --no-cache"
   ]
  },
  {
   "cell_type": "code",
   "execution_count": null,
   "metadata": {},
   "outputs": [],
   "source": [
    "# 更新軟體包資訊\n",
    "!sudo apt-get update"
   ]
  },
  {
   "cell_type": "code",
   "execution_count": null,
   "metadata": {},
   "outputs": [],
   "source": [
    "# 安裝java\n",
    "!sudo apt-get install openjdk-11-jdk"
   ]
  },
  {
   "cell_type": "code",
   "execution_count": null,
   "metadata": {},
   "outputs": [],
   "source": [
    "# 建立反向索引\n",
    "! python -m pyserini.index.lucene \\\n",
    "  --collection JsonCollection \\\n",
    "  --input /user_data/preprocess/wiki_process/wikijson_1024 \\\n",
    "  --language zh \\\n",
    "  --index /user_data/preprocess/wiki_index/wiki_index_1024 \\\n",
    "  --generator DefaultLuceneDocumentGenerator \\\n",
    "  --threads 1 \\\n",
    "  --storePositions --storeDocvectors --storeRaw"
   ]
  },
  {
   "cell_type": "code",
   "execution_count": 102,
   "metadata": {},
   "outputs": [
    {
     "name": "stdout",
     "output_type": "stream",
     "text": [
      "排名\t文章編號\tBM25分數\n",
      "1\t3966268\t5.69150\n",
      "2\t6607631\t5.69150\n",
      "3\t6923121\t5.65760\n",
      "4\t7430046\t5.63920\n",
      "5\t7430046\t5.63920\n",
      "6\t7156607\t5.61580\n",
      "7\t1665630\t5.60270\n",
      "8\t764174\t5.60270\n",
      "9\t84100\t5.60270\n",
      "10\t6607631\t5.59540\n",
      "11\t6923121\t5.59540\n",
      "12\t3683109\t5.57520\n",
      "13\t3683109\t5.57520\n",
      "14\t72879\t5.57520\n",
      "15\t7779794\t5.57520\n",
      "\n",
      "執行時間：0.001694 秒\n"
     ]
    }
   ],
   "source": [
    "# 使用反向索引\n",
    "from pyserini.search.lucene import LuceneSearcher\n",
    "import time\n",
    "\n",
    "searcher = LuceneSearcher('wiki_index/wiki_index_256') # 反向索引資料夾\n",
    "searcher.set_language('zh')\n",
    "search_key = '癌症'\n",
    "\n",
    "start = time.time()\n",
    "hits = searcher.search(search_key,  k=15) # 預設k=10\n",
    "end = time.time()\n",
    "\n",
    "print(\"排名\\t文章編號\\tBM25分數\")\n",
    "for i in range(len(hits)):\n",
    "    print(f'{i+1}\\t{hits[i].docid}\\t{hits[i].score:.5f}')\n",
    "\n",
    "print(\"\\n執行時間：%f 秒\" % (end - start))"
   ]
  },
  {
   "cell_type": "code",
   "execution_count": 107,
   "metadata": {},
   "outputs": [
    {
     "name": "stdout",
     "output_type": "stream",
     "text": [
      "維生素C（），又稱抗壞血酸（），是一種存在於各種食物的維他命，也被作為營養補充品銷售，可用於預防及治療壞血病。維他命C是參與組織修復和某些神經遞質中的酶促生產。它是幾種酶的功能中所必需的，並且對於免疫系統運作很重要。它還可用作抗氧化劑。\n",
      "證據不支持將其用於預防普通感冒。然而有些證據顯示，經常服用可縮短患感冒的時間。目前尚未清楚營養補充劑是否會對癌症、心血管疾病或認知障礙症有所影響。服用可透過口服或注射。\n",
      "維他命C通常耐受性良好。大劑量服用可能會導致胃腸道不適、頭痛、睡眠困難及皮膚潮紅。在懷孕期間，正常劑量是\n"
     ]
    }
   ],
   "source": [
    "from pyserini.search.lucene import LuceneSearcher\n",
    "import json\n",
    "\n",
    "searcher = LuceneSearcher('wiki_index/wiki_index_256')\n",
    "hits = searcher.search('癌症', k=15)  \n",
    "doc_id = [hit.docid for hit in hits]\n",
    "\n",
    "raw_doc = searcher.doc(doc_id[0]).raw()\n",
    "content = json.loads(raw_doc)['contents']\n",
    "\n",
    "print(content)"
   ]
  },
  {
   "cell_type": "code",
   "execution_count": 105,
   "metadata": {},
   "outputs": [
    {
     "name": "stdout",
     "output_type": "stream",
     "text": [
      "執行時間：11.485053 秒\n"
     ]
    }
   ],
   "source": [
    "# 比較暴力搜尋\n",
    "import os\n",
    "import json\n",
    "import time\n",
    "\n",
    "search_key = '癌症'\n",
    "folder_path = 'wiki_process/wikijson_1024'\n",
    "list = []\n",
    "\n",
    "start = time.time()\n",
    "for filename in os.listdir(folder_path): # 找資料夾中的所有json檔\n",
    "    if filename.endswith('.json'):\n",
    "        file_path = os.path.join(folder_path, filename)\n",
    "        \n",
    "        with open(file_path, 'r') as f:\n",
    "            json_data_list = json.load(f)\n",
    "            \n",
    "            for json_data in json_data_list:\n",
    "                if search_key in json_data.get('contents', ''):\n",
    "                    list.append(json_data) \n",
    "end = time.time()\n",
    "\n",
    "print(\"執行時間：%f 秒\" % (end - start))\n"
   ]
  }
 ],
 "metadata": {
  "kernelspec": {
   "display_name": "Python 3",
   "language": "python",
   "name": "python3"
  },
  "language_info": {
   "codemirror_mode": {
    "name": "ipython",
    "version": 3
   },
   "file_extension": ".py",
   "mimetype": "text/x-python",
   "name": "python",
   "nbconvert_exporter": "python",
   "pygments_lexer": "ipython3",
   "version": "3.10.12"
  }
 },
 "nbformat": 4,
 "nbformat_minor": 2
}
